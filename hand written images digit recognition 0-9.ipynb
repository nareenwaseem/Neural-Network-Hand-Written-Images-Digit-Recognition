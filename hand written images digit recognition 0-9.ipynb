{
 "cells": [
  {
   "cell_type": "code",
   "execution_count": 1,
   "id": "70c86a40",
   "metadata": {},
   "outputs": [
    {
     "name": "stdout",
     "output_type": "stream",
     "text": [
      "Collecting tensorflow\n",
      "  Using cached tensorflow-2.13.0-cp311-cp311-win_amd64.whl (1.9 kB)\n",
      "Collecting tensorflow-intel==2.13.0 (from tensorflow)\n",
      "  Using cached tensorflow_intel-2.13.0-cp311-cp311-win_amd64.whl (276.6 MB)\n",
      "Collecting absl-py>=1.0.0 (from tensorflow-intel==2.13.0->tensorflow)\n",
      "  Using cached absl_py-1.4.0-py3-none-any.whl (126 kB)\n",
      "Collecting astunparse>=1.6.0 (from tensorflow-intel==2.13.0->tensorflow)\n",
      "  Using cached astunparse-1.6.3-py2.py3-none-any.whl (12 kB)\n",
      "Collecting flatbuffers>=23.1.21 (from tensorflow-intel==2.13.0->tensorflow)\n",
      "  Using cached flatbuffers-23.5.26-py2.py3-none-any.whl (26 kB)\n",
      "Collecting gast<=0.4.0,>=0.2.1 (from tensorflow-intel==2.13.0->tensorflow)\n",
      "  Using cached gast-0.4.0-py3-none-any.whl (9.8 kB)\n",
      "Collecting google-pasta>=0.1.1 (from tensorflow-intel==2.13.0->tensorflow)\n",
      "  Using cached google_pasta-0.2.0-py3-none-any.whl (57 kB)\n",
      "Requirement already satisfied: h5py>=2.9.0 in c:\\users\\a\\anaconda3\\lib\\site-packages (from tensorflow-intel==2.13.0->tensorflow) (3.7.0)\n",
      "Collecting libclang>=13.0.0 (from tensorflow-intel==2.13.0->tensorflow)\n",
      "  Using cached libclang-16.0.6-py2.py3-none-win_amd64.whl (24.4 MB)\n",
      "Requirement already satisfied: numpy<=1.24.3,>=1.22 in c:\\users\\a\\anaconda3\\lib\\site-packages (from tensorflow-intel==2.13.0->tensorflow) (1.24.3)\n",
      "Collecting opt-einsum>=2.3.2 (from tensorflow-intel==2.13.0->tensorflow)\n",
      "  Using cached opt_einsum-3.3.0-py3-none-any.whl (65 kB)\n",
      "Requirement already satisfied: packaging in c:\\users\\a\\anaconda3\\lib\\site-packages (from tensorflow-intel==2.13.0->tensorflow) (23.0)\n",
      "Collecting protobuf!=4.21.0,!=4.21.1,!=4.21.2,!=4.21.3,!=4.21.4,!=4.21.5,<5.0.0dev,>=3.20.3 (from tensorflow-intel==2.13.0->tensorflow)\n",
      "  Using cached protobuf-4.23.4-cp310-abi3-win_amd64.whl (422 kB)\n",
      "Requirement already satisfied: setuptools in c:\\users\\a\\anaconda3\\lib\\site-packages (from tensorflow-intel==2.13.0->tensorflow) (67.8.0)\n",
      "Requirement already satisfied: six>=1.12.0 in c:\\users\\a\\anaconda3\\lib\\site-packages (from tensorflow-intel==2.13.0->tensorflow) (1.16.0)\n",
      "Collecting termcolor>=1.1.0 (from tensorflow-intel==2.13.0->tensorflow)\n",
      "  Using cached termcolor-2.3.0-py3-none-any.whl (6.9 kB)\n",
      "Collecting typing-extensions<4.6.0,>=3.6.6 (from tensorflow-intel==2.13.0->tensorflow)\n",
      "  Using cached typing_extensions-4.5.0-py3-none-any.whl (27 kB)\n",
      "Requirement already satisfied: wrapt>=1.11.0 in c:\\users\\a\\anaconda3\\lib\\site-packages (from tensorflow-intel==2.13.0->tensorflow) (1.14.1)\n",
      "Collecting grpcio<2.0,>=1.24.3 (from tensorflow-intel==2.13.0->tensorflow)\n",
      "  Using cached grpcio-1.56.2-cp311-cp311-win_amd64.whl (4.2 MB)\n",
      "Collecting tensorboard<2.14,>=2.13 (from tensorflow-intel==2.13.0->tensorflow)\n",
      "  Using cached tensorboard-2.13.0-py3-none-any.whl (5.6 MB)\n",
      "Collecting tensorflow-estimator<2.14,>=2.13.0 (from tensorflow-intel==2.13.0->tensorflow)\n",
      "  Using cached tensorflow_estimator-2.13.0-py2.py3-none-any.whl (440 kB)\n",
      "Collecting keras<2.14,>=2.13.1 (from tensorflow-intel==2.13.0->tensorflow)\n",
      "  Downloading keras-2.13.1-py3-none-any.whl (1.7 MB)\n",
      "                                              0.0/1.7 MB ? eta -:--:--\n",
      "                                              0.0/1.7 MB ? eta -:--:--\n",
      "                                              0.0/1.7 MB ? eta -:--:--\n",
      "                                              0.0/1.7 MB ? eta -:--:--\n",
      "                                              0.0/1.7 MB ? eta -:--:--\n",
      "                                              0.0/1.7 MB ? eta -:--:--\n",
      "                                              0.0/1.7 MB 119.8 kB/s eta 0:00:14\n",
      "     -                                        0.1/1.7 MB 218.8 kB/s eta 0:00:08\n",
      "     -                                        0.1/1.7 MB 218.6 kB/s eta 0:00:08\n",
      "     -                                        0.1/1.7 MB 218.6 kB/s eta 0:00:08\n",
      "     -                                        0.1/1.7 MB 218.6 kB/s eta 0:00:08\n",
      "     -                                        0.1/1.7 MB 218.6 kB/s eta 0:00:08\n",
      "     --                                       0.1/1.7 MB 257.8 kB/s eta 0:00:07\n",
      "     ----                                     0.2/1.7 MB 327.7 kB/s eta 0:00:05\n",
      "     ----                                     0.2/1.7 MB 318.8 kB/s eta 0:00:05\n",
      "     ----                                     0.2/1.7 MB 318.8 kB/s eta 0:00:05\n",
      "     ----                                     0.2/1.7 MB 318.8 kB/s eta 0:00:05\n",
      "     ------                                   0.3/1.7 MB 412.0 kB/s eta 0:00:04\n",
      "     -------                                  0.3/1.7 MB 418.5 kB/s eta 0:00:04\n",
      "     -------                                  0.3/1.7 MB 428.3 kB/s eta 0:00:04\n",
      "     --------                                 0.4/1.7 MB 441.4 kB/s eta 0:00:04\n",
      "     ---------                                0.4/1.7 MB 441.1 kB/s eta 0:00:03\n",
      "     ---------                                0.4/1.7 MB 429.5 kB/s eta 0:00:04\n",
      "     ---------                                0.4/1.7 MB 437.1 kB/s eta 0:00:03\n",
      "     ----------                               0.4/1.7 MB 426.7 kB/s eta 0:00:03\n",
      "     -----------                              0.5/1.7 MB 440.5 kB/s eta 0:00:03\n",
      "     -----------                              0.5/1.7 MB 437.0 kB/s eta 0:00:03\n",
      "     ------------                             0.5/1.7 MB 440.1 kB/s eta 0:00:03\n",
      "     ------------                             0.6/1.7 MB 451.1 kB/s eta 0:00:03\n",
      "     -------------                            0.6/1.7 MB 448.1 kB/s eta 0:00:03\n",
      "     -------------                            0.6/1.7 MB 450.4 kB/s eta 0:00:03\n",
      "     --------------                           0.6/1.7 MB 460.5 kB/s eta 0:00:03\n",
      "     ---------------                          0.6/1.7 MB 461.7 kB/s eta 0:00:03\n",
      "     ---------------                          0.7/1.7 MB 466.1 kB/s eta 0:00:03\n",
      "     ---------------                          0.7/1.7 MB 463.2 kB/s eta 0:00:03\n",
      "     ----------------                         0.7/1.7 MB 471.0 kB/s eta 0:00:03\n",
      "     -----------------                        0.7/1.7 MB 472.0 kB/s eta 0:00:03\n",
      "     -----------------                        0.8/1.7 MB 469.3 kB/s eta 0:00:03\n",
      "     ------------------                       0.8/1.7 MB 472.6 kB/s eta 0:00:02\n",
      "     ------------------                       0.8/1.7 MB 473.5 kB/s eta 0:00:02\n",
      "     -------------------                      0.8/1.7 MB 476.8 kB/s eta 0:00:02\n",
      "     --------------------                     0.9/1.7 MB 477.2 kB/s eta 0:00:02\n",
      "     --------------------                     0.9/1.7 MB 480.4 kB/s eta 0:00:02\n",
      "     ---------------------                    0.9/1.7 MB 480.6 kB/s eta 0:00:02\n",
      "     ---------------------                    0.9/1.7 MB 478.2 kB/s eta 0:00:02\n",
      "     ----------------------                   1.0/1.7 MB 487.6 kB/s eta 0:00:02\n",
      "     ----------------------                   1.0/1.7 MB 485.2 kB/s eta 0:00:02\n",
      "     -----------------------                  1.0/1.7 MB 485.5 kB/s eta 0:00:02\n",
      "     -----------------------                  1.0/1.7 MB 485.5 kB/s eta 0:00:02\n",
      "     -----------------------                  1.0/1.7 MB 485.5 kB/s eta 0:00:02\n",
      "     -------------------------                1.1/1.7 MB 482.3 kB/s eta 0:00:02\n",
      "     -------------------------                1.1/1.7 MB 488.1 kB/s eta 0:00:02\n",
      "     -------------------------                1.1/1.7 MB 490.5 kB/s eta 0:00:02\n",
      "     --------------------------               1.1/1.7 MB 487.2 kB/s eta 0:00:02\n",
      "     ---------------------------              1.2/1.7 MB 486.2 kB/s eta 0:00:02\n",
      "     ---------------------------              1.2/1.7 MB 484.1 kB/s eta 0:00:02\n",
      "     ---------------------------              1.2/1.7 MB 483.2 kB/s eta 0:00:02\n",
      "     ----------------------------             1.2/1.7 MB 485.4 kB/s eta 0:00:02\n",
      "     -----------------------------            1.2/1.7 MB 482.6 kB/s eta 0:00:01\n",
      "     -----------------------------            1.2/1.7 MB 480.6 kB/s eta 0:00:01\n",
      "     -----------------------------            1.3/1.7 MB 482.8 kB/s eta 0:00:01\n",
      "     ------------------------------           1.3/1.7 MB 480.2 kB/s eta 0:00:01\n",
      "     -------------------------------          1.3/1.7 MB 482.2 kB/s eta 0:00:01\n",
      "     -------------------------------          1.3/1.7 MB 480.3 kB/s eta 0:00:01\n",
      "     --------------------------------         1.4/1.7 MB 484.3 kB/s eta 0:00:01\n",
      "     --------------------------------         1.4/1.7 MB 484.4 kB/s eta 0:00:01\n",
      "     ---------------------------------        1.4/1.7 MB 487.3 kB/s eta 0:00:01\n",
      "     ----------------------------------       1.5/1.7 MB 492.4 kB/s eta 0:00:01\n",
      "     -----------------------------------      1.5/1.7 MB 494.9 kB/s eta 0:00:01\n",
      "     ------------------------------------     1.5/1.7 MB 500.9 kB/s eta 0:00:01\n",
      "     ------------------------------------     1.6/1.7 MB 505.7 kB/s eta 0:00:01\n",
      "     -------------------------------------    1.6/1.7 MB 505.5 kB/s eta 0:00:01\n",
      "     -------------------------------------    1.6/1.7 MB 509.4 kB/s eta 0:00:01\n",
      "     --------------------------------------   1.6/1.7 MB 506.6 kB/s eta 0:00:01\n",
      "     --------------------------------------   1.6/1.7 MB 506.6 kB/s eta 0:00:01\n",
      "     --------------------------------------   1.6/1.7 MB 506.6 kB/s eta 0:00:01\n",
      "     ---------------------------------------- 1.7/1.7 MB 501.7 kB/s eta 0:00:00\n",
      "Collecting tensorflow-io-gcs-filesystem>=0.23.1 (from tensorflow-intel==2.13.0->tensorflow)\n",
      "  Downloading tensorflow_io_gcs_filesystem-0.31.0-cp311-cp311-win_amd64.whl (1.5 MB)\n",
      "                                              0.0/1.5 MB ? eta -:--:--\n",
      "                                              0.0/1.5 MB ? eta -:--:--\n",
      "                                              0.0/1.5 MB ? eta -:--:--\n",
      "                                              0.0/1.5 MB ? eta -:--:--\n",
      "                                              0.0/1.5 MB ? eta -:--:--\n",
      "                                              0.0/1.5 MB ? eta -:--:--\n",
      "     -                                        0.0/1.5 MB 495.5 kB/s eta 0:00:03\n",
      "     -                                        0.0/1.5 MB 495.5 kB/s eta 0:00:03\n",
      "     --                                       0.1/1.5 MB 383.3 kB/s eta 0:00:04\n",
      "     --                                       0.1/1.5 MB 383.3 kB/s eta 0:00:04\n",
      "     --                                       0.1/1.5 MB 383.3 kB/s eta 0:00:04\n",
      "     --                                       0.1/1.5 MB 383.3 kB/s eta 0:00:04\n",
      "     --                                       0.1/1.5 MB 238.1 kB/s eta 0:00:06\n",
      "     --                                       0.1/1.5 MB 238.1 kB/s eta 0:00:06\n",
      "     --                                       0.1/1.5 MB 238.1 kB/s eta 0:00:06\n",
      "     ---                                      0.1/1.5 MB 211.6 kB/s eta 0:00:07\n",
      "     ---                                      0.1/1.5 MB 211.6 kB/s eta 0:00:07\n",
      "     ---                                      0.1/1.5 MB 189.6 kB/s eta 0:00:08\n",
      "     ---                                      0.1/1.5 MB 189.6 kB/s eta 0:00:08\n",
      "     ---                                      0.1/1.5 MB 189.6 kB/s eta 0:00:08\n",
      "     ---                                      0.1/1.5 MB 189.4 kB/s eta 0:00:08\n",
      "     ---                                      0.1/1.5 MB 189.4 kB/s eta 0:00:08\n",
      "     ----                                     0.2/1.5 MB 196.7 kB/s eta 0:00:07\n",
      "     ----                                     0.2/1.5 MB 187.2 kB/s eta 0:00:08\n",
      "     ----                                     0.2/1.5 MB 187.2 kB/s eta 0:00:08\n",
      "     -----                                    0.2/1.5 MB 196.7 kB/s eta 0:00:07\n",
      "     -----                                    0.2/1.5 MB 191.7 kB/s eta 0:00:07\n",
      "     -----                                    0.2/1.5 MB 191.7 kB/s eta 0:00:07\n",
      "     ------                                   0.2/1.5 MB 199.5 kB/s eta 0:00:07\n",
      "     ------                                   0.2/1.5 MB 206.6 kB/s eta 0:00:07\n",
      "     ------                                   0.2/1.5 MB 206.6 kB/s eta 0:00:07\n",
      "     -------                                  0.3/1.5 MB 210.0 kB/s eta 0:00:06\n",
      "     -------                                  0.3/1.5 MB 210.0 kB/s eta 0:00:06\n",
      "     -------                                  0.3/1.5 MB 215.8 kB/s eta 0:00:06\n",
      "     --------                                 0.3/1.5 MB 218.5 kB/s eta 0:00:06\n",
      "     --------                                 0.3/1.5 MB 218.5 kB/s eta 0:00:06\n",
      "     ---------                                0.3/1.5 MB 225.5 kB/s eta 0:00:06\n",
      "     ---------                                0.3/1.5 MB 225.3 kB/s eta 0:00:06\n",
      "     ---------                                0.4/1.5 MB 231.7 kB/s eta 0:00:05\n",
      "     ----------                               0.4/1.5 MB 237.7 kB/s eta 0:00:05\n",
      "     ----------                               0.4/1.5 MB 237.3 kB/s eta 0:00:05\n",
      "     -----------                              0.4/1.5 MB 242.8 kB/s eta 0:00:05\n",
      "     -----------                              0.4/1.5 MB 244.2 kB/s eta 0:00:05\n",
      "     ------------                             0.5/1.5 MB 249.5 kB/s eta 0:00:05\n",
      "     ------------                             0.5/1.5 MB 254.3 kB/s eta 0:00:04\n",
      "     ------------                             0.5/1.5 MB 255.4 kB/s eta 0:00:04\n",
      "     -------------                            0.5/1.5 MB 260.1 kB/s eta 0:00:04\n",
      "     -------------                            0.5/1.5 MB 259.0 kB/s eta 0:00:04\n",
      "     --------------                           0.5/1.5 MB 265.2 kB/s eta 0:00:04\n",
      "     ---------------                          0.6/1.5 MB 270.1 kB/s eta 0:00:04\n",
      "     ---------------                          0.6/1.5 MB 273.8 kB/s eta 0:00:04\n",
      "     ---------------                          0.6/1.5 MB 272.7 kB/s eta 0:00:04\n",
      "     ----------------                         0.6/1.5 MB 278.2 kB/s eta 0:00:04\n",
      "     -----------------                        0.6/1.5 MB 281.5 kB/s eta 0:00:04\n",
      "     -----------------                        0.6/1.5 MB 280.3 kB/s eta 0:00:04\n",
      "     -----------------                        0.7/1.5 MB 285.3 kB/s eta 0:00:03\n",
      "     ------------------                       0.7/1.5 MB 284.0 kB/s eta 0:00:03\n",
      "     ------------------                       0.7/1.5 MB 287.1 kB/s eta 0:00:03\n",
      "     -------------------                      0.7/1.5 MB 291.7 kB/s eta 0:00:03\n",
      "     --------------------                     0.7/1.5 MB 293.2 kB/s eta 0:00:03\n",
      "     --------------------                     0.8/1.5 MB 293.5 kB/s eta 0:00:03\n",
      "     --------------------                     0.8/1.5 MB 296.1 kB/s eta 0:00:03\n",
      "     ---------------------                    0.8/1.5 MB 300.4 kB/s eta 0:00:03\n",
      "     ---------------------                    0.8/1.5 MB 298.9 kB/s eta 0:00:03\n",
      "     ----------------------                   0.8/1.5 MB 303.1 kB/s eta 0:00:03\n",
      "     -----------------------                  0.9/1.5 MB 307.4 kB/s eta 0:00:03\n",
      "     -----------------------                  0.9/1.5 MB 307.5 kB/s eta 0:00:03\n",
      "     ------------------------                 0.9/1.5 MB 311.6 kB/s eta 0:00:02\n",
      "     -------------------------                0.9/1.5 MB 320.7 kB/s eta 0:00:02\n",
      "     --------------------------               1.0/1.5 MB 324.2 kB/s eta 0:00:02\n",
      "     --------------------------               1.0/1.5 MB 326.0 kB/s eta 0:00:02\n",
      "     ---------------------------              1.0/1.5 MB 334.5 kB/s eta 0:00:02\n",
      "     ----------------------------             1.1/1.5 MB 337.6 kB/s eta 0:00:02\n",
      "     ----------------------------             1.1/1.5 MB 335.9 kB/s eta 0:00:02\n",
      "     -----------------------------            1.1/1.5 MB 345.4 kB/s eta 0:00:02\n",
      "     ------------------------------           1.1/1.5 MB 343.6 kB/s eta 0:00:02\n",
      "     ------------------------------           1.1/1.5 MB 346.6 kB/s eta 0:00:02\n",
      "     -------------------------------          1.2/1.5 MB 347.7 kB/s eta 0:00:01\n",
      "     -------------------------------          1.2/1.5 MB 350.6 kB/s eta 0:00:01\n",
      "     --------------------------------         1.2/1.5 MB 350.4 kB/s eta 0:00:01\n",
      "     --------------------------------         1.2/1.5 MB 353.1 kB/s eta 0:00:01\n",
      "     ---------------------------------        1.2/1.5 MB 354.0 kB/s eta 0:00:01\n",
      "     ----------------------------------       1.3/1.5 MB 356.7 kB/s eta 0:00:01\n",
      "     ----------------------------------       1.3/1.5 MB 362.2 kB/s eta 0:00:01\n",
      "     -----------------------------------      1.3/1.5 MB 364.4 kB/s eta 0:00:01\n",
      "     ------------------------------------     1.4/1.5 MB 368.1 kB/s eta 0:00:01\n",
      "     -------------------------------------    1.4/1.5 MB 371.7 kB/s eta 0:00:01\n",
      "     --------------------------------------   1.4/1.5 MB 379.6 kB/s eta 0:00:01\n",
      "     ---------------------------------------  1.5/1.5 MB 383.0 kB/s eta 0:00:01\n",
      "     ---------------------------------------- 1.5/1.5 MB 384.0 kB/s eta 0:00:00\n",
      "Requirement already satisfied: wheel<1.0,>=0.23.0 in c:\\users\\a\\anaconda3\\lib\\site-packages (from astunparse>=1.6.0->tensorflow-intel==2.13.0->tensorflow) (0.38.4)\n",
      "Collecting google-auth<3,>=1.6.3 (from tensorboard<2.14,>=2.13->tensorflow-intel==2.13.0->tensorflow)\n",
      "  Using cached google_auth-2.22.0-py2.py3-none-any.whl (181 kB)\n",
      "Collecting google-auth-oauthlib<1.1,>=0.5 (from tensorboard<2.14,>=2.13->tensorflow-intel==2.13.0->tensorflow)\n",
      "  Using cached google_auth_oauthlib-1.0.0-py2.py3-none-any.whl (18 kB)\n",
      "Requirement already satisfied: markdown>=2.6.8 in c:\\users\\a\\anaconda3\\lib\\site-packages (from tensorboard<2.14,>=2.13->tensorflow-intel==2.13.0->tensorflow) (3.4.1)\n",
      "Requirement already satisfied: requests<3,>=2.21.0 in c:\\users\\a\\anaconda3\\lib\\site-packages (from tensorboard<2.14,>=2.13->tensorflow-intel==2.13.0->tensorflow) (2.29.0)\n",
      "Collecting tensorboard-data-server<0.8.0,>=0.7.0 (from tensorboard<2.14,>=2.13->tensorflow-intel==2.13.0->tensorflow)\n",
      "  Using cached tensorboard_data_server-0.7.1-py3-none-any.whl (2.4 kB)\n",
      "Requirement already satisfied: werkzeug>=1.0.1 in c:\\users\\a\\anaconda3\\lib\\site-packages (from tensorboard<2.14,>=2.13->tensorflow-intel==2.13.0->tensorflow) (2.2.3)\n",
      "Collecting cachetools<6.0,>=2.0.0 (from google-auth<3,>=1.6.3->tensorboard<2.14,>=2.13->tensorflow-intel==2.13.0->tensorflow)\n",
      "  Using cached cachetools-5.3.1-py3-none-any.whl (9.3 kB)\n",
      "Requirement already satisfied: pyasn1-modules>=0.2.1 in c:\\users\\a\\anaconda3\\lib\\site-packages (from google-auth<3,>=1.6.3->tensorboard<2.14,>=2.13->tensorflow-intel==2.13.0->tensorflow) (0.2.8)\n",
      "Collecting rsa<5,>=3.1.4 (from google-auth<3,>=1.6.3->tensorboard<2.14,>=2.13->tensorflow-intel==2.13.0->tensorflow)\n",
      "  Downloading rsa-4.9-py3-none-any.whl (34 kB)\n",
      "Requirement already satisfied: urllib3<2.0 in c:\\users\\a\\anaconda3\\lib\\site-packages (from google-auth<3,>=1.6.3->tensorboard<2.14,>=2.13->tensorflow-intel==2.13.0->tensorflow) (1.26.16)\n",
      "Collecting requests-oauthlib>=0.7.0 (from google-auth-oauthlib<1.1,>=0.5->tensorboard<2.14,>=2.13->tensorflow-intel==2.13.0->tensorflow)\n",
      "  Using cached requests_oauthlib-1.3.1-py2.py3-none-any.whl (23 kB)\n",
      "Requirement already satisfied: charset-normalizer<4,>=2 in c:\\users\\a\\anaconda3\\lib\\site-packages (from requests<3,>=2.21.0->tensorboard<2.14,>=2.13->tensorflow-intel==2.13.0->tensorflow) (2.0.4)\n",
      "Requirement already satisfied: idna<4,>=2.5 in c:\\users\\a\\anaconda3\\lib\\site-packages (from requests<3,>=2.21.0->tensorboard<2.14,>=2.13->tensorflow-intel==2.13.0->tensorflow) (3.4)\n",
      "Requirement already satisfied: certifi>=2017.4.17 in c:\\users\\a\\anaconda3\\lib\\site-packages (from requests<3,>=2.21.0->tensorboard<2.14,>=2.13->tensorflow-intel==2.13.0->tensorflow) (2023.5.7)\n",
      "Requirement already satisfied: MarkupSafe>=2.1.1 in c:\\users\\a\\anaconda3\\lib\\site-packages (from werkzeug>=1.0.1->tensorboard<2.14,>=2.13->tensorflow-intel==2.13.0->tensorflow) (2.1.1)\n",
      "Requirement already satisfied: pyasn1<0.5.0,>=0.4.6 in c:\\users\\a\\anaconda3\\lib\\site-packages (from pyasn1-modules>=0.2.1->google-auth<3,>=1.6.3->tensorboard<2.14,>=2.13->tensorflow-intel==2.13.0->tensorflow) (0.4.8)\n",
      "Collecting oauthlib>=3.0.0 (from requests-oauthlib>=0.7.0->google-auth-oauthlib<1.1,>=0.5->tensorboard<2.14,>=2.13->tensorflow-intel==2.13.0->tensorflow)\n",
      "  Downloading oauthlib-3.2.2-py3-none-any.whl (151 kB)\n",
      "                                              0.0/151.7 kB ? eta -:--:--\n",
      "     --                                       10.2/151.7 kB ? eta -:--:--\n",
      "     ---------                             41.0/151.7 kB 487.6 kB/s eta 0:00:01\n",
      "     --------------                        61.4/151.7 kB 544.7 kB/s eta 0:00:01\n",
      "     -----------------                     71.7/151.7 kB 491.5 kB/s eta 0:00:01\n",
      "     --------------------------           112.6/151.7 kB 544.7 kB/s eta 0:00:01\n",
      "     ----------------------------------   143.4/151.7 kB 566.5 kB/s eta 0:00:01\n",
      "     ------------------------------------ 151.7/151.7 kB 565.8 kB/s eta 0:00:00\n",
      "Installing collected packages: libclang, flatbuffers, typing-extensions, termcolor, tensorflow-io-gcs-filesystem, tensorflow-estimator, tensorboard-data-server, rsa, protobuf, opt-einsum, oauthlib, keras, grpcio, google-pasta, gast, cachetools, astunparse, absl-py, requests-oauthlib, google-auth, google-auth-oauthlib, tensorboard, tensorflow-intel, tensorflow\n"
     ]
    },
    {
     "name": "stderr",
     "output_type": "stream",
     "text": [
      "ERROR: Could not install packages due to an OSError: [WinError 32] The process cannot access the file because it is being used by another process: 'C:\\\\Users\\\\A\\\\anaconda3\\\\Lib\\\\site-packages\\\\clang\\\\native\\\\libclang.dll'\n",
      "Consider using the `--user` option or check the permissions.\n",
      "\n"
     ]
    }
   ],
   "source": [
    "!pip install tensorflow"
   ]
  },
  {
   "cell_type": "code",
   "execution_count": 2,
   "id": "410eaed3",
   "metadata": {},
   "outputs": [
    {
     "name": "stdout",
     "output_type": "stream",
     "text": [
      "Requirement already satisfied: pip in c:\\users\\a\\anaconda3\\lib\\site-packages (23.1.2)"
     ]
    },
    {
     "name": "stderr",
     "output_type": "stream",
     "text": [
      "ERROR: To modify pip, please run the following command:\n",
      "C:\\Users\\A\\anaconda3\\python.exe -m pip install --upgrade pip\n"
     ]
    },
    {
     "name": "stdout",
     "output_type": "stream",
     "text": [
      "\n",
      "Collecting pip\n",
      "  Downloading pip-23.2.1-py3-none-any.whl (2.1 MB)\n",
      "                                              0.0/2.1 MB ? eta -:--:--\n",
      "                                              0.0/2.1 MB ? eta -:--:--\n",
      "                                              0.0/2.1 MB ? eta -:--:--\n",
      "                                              0.0/2.1 MB 330.3 kB/s eta 0:00:07\n",
      "                                              0.0/2.1 MB 330.3 kB/s eta 0:00:07\n",
      "     -                                        0.1/2.1 MB 438.9 kB/s eta 0:00:05\n",
      "     --                                       0.1/2.1 MB 547.6 kB/s eta 0:00:04\n",
      "     --                                       0.1/2.1 MB 610.6 kB/s eta 0:00:04\n",
      "     ---                                      0.2/2.1 MB 695.5 kB/s eta 0:00:03\n",
      "     ---                                      0.2/2.1 MB 695.5 kB/s eta 0:00:03\n",
      "     ---                                      0.2/2.1 MB 695.5 kB/s eta 0:00:03\n",
      "     ---                                      0.2/2.1 MB 695.5 kB/s eta 0:00:03\n",
      "     ---                                      0.2/2.1 MB 695.5 kB/s eta 0:00:03\n",
      "     ---                                      0.2/2.1 MB 695.5 kB/s eta 0:00:03\n",
      "     ---                                      0.2/2.1 MB 695.5 kB/s eta 0:00:03\n",
      "     -----                                    0.3/2.1 MB 513.8 kB/s eta 0:00:04\n",
      "     -------                                  0.4/2.1 MB 622.1 kB/s eta 0:00:03\n",
      "     ---------                                0.5/2.1 MB 736.0 kB/s eta 0:00:03\n",
      "     ---------                                0.5/2.1 MB 736.0 kB/s eta 0:00:03\n",
      "     ---------                                0.5/2.1 MB 736.0 kB/s eta 0:00:03\n",
      "     ----------                               0.6/2.1 MB 737.3 kB/s eta 0:00:03\n",
      "     ----------                               0.6/2.1 MB 737.3 kB/s eta 0:00:03\n",
      "     -------------                            0.7/2.1 MB 850.3 kB/s eta 0:00:02\n",
      "     ---------------                          0.8/2.1 MB 897.4 kB/s eta 0:00:02\n",
      "     ----------------                         0.8/2.1 MB 900.6 kB/s eta 0:00:02\n",
      "     ----------------                         0.8/2.1 MB 900.6 kB/s eta 0:00:02\n",
      "     -----------------                        0.9/2.1 MB 897.9 kB/s eta 0:00:02\n",
      "     ------------------                       1.0/2.1 MB 900.6 kB/s eta 0:00:02\n",
      "     -------------------                      1.0/2.1 MB 899.4 kB/s eta 0:00:02\n",
      "     --------------------                     1.0/2.1 MB 907.2 kB/s eta 0:00:02\n",
      "     --------------------                     1.1/2.1 MB 909.4 kB/s eta 0:00:02\n",
      "     ---------------------                    1.1/2.1 MB 910.8 kB/s eta 0:00:02\n",
      "     ----------------------                   1.2/2.1 MB 917.5 kB/s eta 0:00:02\n",
      "     ----------------------                   1.2/2.1 MB 908.6 kB/s eta 0:00:01\n",
      "     -----------------------                  1.2/2.1 MB 925.3 kB/s eta 0:00:01\n",
      "     ------------------------                 1.3/2.1 MB 916.0 kB/s eta 0:00:01\n",
      "     ------------------------                 1.3/2.1 MB 917.7 kB/s eta 0:00:01\n",
      "     -------------------------                1.4/2.1 MB 923.2 kB/s eta 0:00:01\n",
      "     --------------------------               1.4/2.1 MB 924.6 kB/s eta 0:00:01\n",
      "     ---------------------------              1.4/2.1 MB 920.7 kB/s eta 0:00:01\n",
      "     ----------------------------             1.5/2.1 MB 925.6 kB/s eta 0:00:01\n",
      "     -----------------------------            1.5/2.1 MB 926.3 kB/s eta 0:00:01\n",
      "     ------------------------------           1.6/2.1 MB 931.5 kB/s eta 0:00:01\n",
      "     ------------------------------           1.6/2.1 MB 932.0 kB/s eta 0:00:01\n",
      "     -------------------------------          1.6/2.1 MB 924.5 kB/s eta 0:00:01\n",
      "     --------------------------------         1.7/2.1 MB 932.5 kB/s eta 0:00:01\n",
      "     ---------------------------------        1.7/2.1 MB 933.4 kB/s eta 0:00:01\n",
      "     ----------------------------------       1.8/2.1 MB 937.3 kB/s eta 0:00:01\n",
      "     ----------------------------------       1.8/2.1 MB 938.2 kB/s eta 0:00:01\n",
      "     -----------------------------------      1.9/2.1 MB 941.8 kB/s eta 0:00:01\n",
      "     ------------------------------------     1.9/2.1 MB 942.1 kB/s eta 0:00:01\n",
      "     ------------------------------------     1.9/2.1 MB 935.9 kB/s eta 0:00:01\n",
      "     -------------------------------------    2.0/2.1 MB 939.4 kB/s eta 0:00:01\n",
      "     --------------------------------------   2.0/2.1 MB 939.7 kB/s eta 0:00:01\n",
      "     ---------------------------------------  2.1/2.1 MB 936.4 kB/s eta 0:00:01\n",
      "     ---------------------------------------- 2.1/2.1 MB 935.9 kB/s eta 0:00:00\n",
      "Requirement already satisfied: setuptools in c:\\users\\a\\anaconda3\\lib\\site-packages (67.8.0)\n",
      "Collecting setuptools\n",
      "  Downloading setuptools-68.0.0-py3-none-any.whl (804 kB)\n",
      "                                              0.0/804.0 kB ? eta -:--:--\n",
      "                                              0.0/804.0 kB ? eta -:--:--\n",
      "                                              0.0/804.0 kB ? eta -:--:--\n",
      "                                              10.2/804.0 kB ? eta -:--:--\n",
      "                                              10.2/804.0 kB ? eta -:--:--\n",
      "     -                                     41.0/804.0 kB 326.8 kB/s eta 0:00:03\n",
      "     ---                                   81.9/804.0 kB 573.4 kB/s eta 0:00:02\n",
      "     -----                                122.9/804.0 kB 654.9 kB/s eta 0:00:02\n",
      "     -------                              163.8/804.0 kB 756.6 kB/s eta 0:00:01\n",
      "     ---------                            204.8/804.0 kB 778.2 kB/s eta 0:00:01\n",
      "     ---------                            204.8/804.0 kB 778.2 kB/s eta 0:00:01\n",
      "     ---------                            204.8/804.0 kB 778.2 kB/s eta 0:00:01\n",
      "     ---------                            204.8/804.0 kB 778.2 kB/s eta 0:00:01\n",
      "     -----------                          256.0/804.0 kB 582.4 kB/s eta 0:00:01\n",
      "     -----------                          256.0/804.0 kB 582.4 kB/s eta 0:00:01\n",
      "     -----------                          256.0/804.0 kB 582.4 kB/s eta 0:00:01\n",
      "     -------------                        307.2/804.0 kB 542.9 kB/s eta 0:00:01\n",
      "     --------------                       327.7/804.0 kB 549.2 kB/s eta 0:00:01\n",
      "     --------------                       327.7/804.0 kB 549.2 kB/s eta 0:00:01\n",
      "     ---------------------                471.0/804.0 kB 685.7 kB/s eta 0:00:01\n",
      "     -----------------------              532.5/804.0 kB 759.1 kB/s eta 0:00:01\n",
      "     -----------------------              532.5/804.0 kB 759.1 kB/s eta 0:00:01\n",
      "     -----------------------------        665.6/804.0 kB 838.1 kB/s eta 0:00:01\n",
      "     --------------------------------     716.8/804.0 kB 853.3 kB/s eta 0:00:01\n",
      "     ----------------------------------   778.2/804.0 kB 893.0 kB/s eta 0:00:01\n",
      "     ------------------------------------ 804.0/804.0 kB 861.0 kB/s eta 0:00:00\n",
      "Installing collected packages: setuptools\n",
      "  Attempting uninstall: setuptools\n",
      "    Found existing installation: setuptools 67.8.0\n",
      "    Uninstalling setuptools-67.8.0:\n",
      "      Successfully uninstalled setuptools-67.8.0\n",
      "Successfully installed setuptools-68.0.0\n"
     ]
    },
    {
     "name": "stderr",
     "output_type": "stream",
     "text": [
      "ERROR: pip's dependency resolver does not currently take into account all the packages that are installed. This behaviour is the source of the following dependency conflicts.\n",
      "conda-repo-cli 1.0.41 requires requests_mock, which is not installed.\n",
      "conda-repo-cli 1.0.41 requires clyent==1.2.1, but you have clyent 1.2.2 which is incompatible.\n",
      "conda-repo-cli 1.0.41 requires nbformat==5.4.0, but you have nbformat 5.7.0 which is incompatible.\n",
      "conda-repo-cli 1.0.41 requires requests==2.28.1, but you have requests 2.29.0 which is incompatible.\n"
     ]
    }
   ],
   "source": [
    "!pip install --upgrade pip\n",
    "!pip install --upgrade setuptools\n"
   ]
  },
  {
   "cell_type": "code",
   "execution_count": 3,
   "id": "7db601a3",
   "metadata": {},
   "outputs": [
    {
     "name": "stdout",
     "output_type": "stream",
     "text": [
      "Requirement already satisfied: tensorflow in c:\\users\\a\\anaconda3\\lib\\site-packages (2.13.0)\n",
      "Requirement already satisfied: tensorflow-intel==2.13.0 in c:\\users\\a\\anaconda3\\lib\\site-packages (from tensorflow) (2.13.0)\n",
      "Requirement already satisfied: absl-py>=1.0.0 in c:\\users\\a\\anaconda3\\lib\\site-packages (from tensorflow-intel==2.13.0->tensorflow) (1.4.0)\n",
      "Requirement already satisfied: astunparse>=1.6.0 in c:\\users\\a\\anaconda3\\lib\\site-packages (from tensorflow-intel==2.13.0->tensorflow) (1.6.3)\n",
      "Requirement already satisfied: flatbuffers>=23.1.21 in c:\\users\\a\\anaconda3\\lib\\site-packages (from tensorflow-intel==2.13.0->tensorflow) (23.5.26)\n",
      "Requirement already satisfied: gast<=0.4.0,>=0.2.1 in c:\\users\\a\\anaconda3\\lib\\site-packages (from tensorflow-intel==2.13.0->tensorflow) (0.4.0)\n",
      "Requirement already satisfied: google-pasta>=0.1.1 in c:\\users\\a\\anaconda3\\lib\\site-packages (from tensorflow-intel==2.13.0->tensorflow) (0.2.0)\n",
      "Requirement already satisfied: h5py>=2.9.0 in c:\\users\\a\\anaconda3\\lib\\site-packages (from tensorflow-intel==2.13.0->tensorflow) (3.7.0)\n",
      "Requirement already satisfied: libclang>=13.0.0 in c:\\users\\a\\anaconda3\\lib\\site-packages (from tensorflow-intel==2.13.0->tensorflow) (16.0.6)\n",
      "Requirement already satisfied: numpy<=1.24.3,>=1.22 in c:\\users\\a\\anaconda3\\lib\\site-packages (from tensorflow-intel==2.13.0->tensorflow) (1.24.3)\n",
      "Requirement already satisfied: opt-einsum>=2.3.2 in c:\\users\\a\\anaconda3\\lib\\site-packages (from tensorflow-intel==2.13.0->tensorflow) (3.3.0)\n",
      "Requirement already satisfied: packaging in c:\\users\\a\\anaconda3\\lib\\site-packages (from tensorflow-intel==2.13.0->tensorflow) (23.0)\n",
      "Requirement already satisfied: protobuf!=4.21.0,!=4.21.1,!=4.21.2,!=4.21.3,!=4.21.4,!=4.21.5,<5.0.0dev,>=3.20.3 in c:\\users\\a\\anaconda3\\lib\\site-packages (from tensorflow-intel==2.13.0->tensorflow) (4.23.4)\n",
      "Requirement already satisfied: setuptools in c:\\users\\a\\anaconda3\\lib\\site-packages (from tensorflow-intel==2.13.0->tensorflow) (68.0.0)\n",
      "Requirement already satisfied: six>=1.12.0 in c:\\users\\a\\anaconda3\\lib\\site-packages (from tensorflow-intel==2.13.0->tensorflow) (1.16.0)\n",
      "Requirement already satisfied: termcolor>=1.1.0 in c:\\users\\a\\anaconda3\\lib\\site-packages (from tensorflow-intel==2.13.0->tensorflow) (2.3.0)\n",
      "Requirement already satisfied: typing-extensions<4.6.0,>=3.6.6 in c:\\users\\a\\anaconda3\\lib\\site-packages (from tensorflow-intel==2.13.0->tensorflow) (4.5.0)\n",
      "Requirement already satisfied: wrapt>=1.11.0 in c:\\users\\a\\anaconda3\\lib\\site-packages (from tensorflow-intel==2.13.0->tensorflow) (1.14.1)\n",
      "Requirement already satisfied: grpcio<2.0,>=1.24.3 in c:\\users\\a\\anaconda3\\lib\\site-packages (from tensorflow-intel==2.13.0->tensorflow) (1.56.2)\n",
      "Requirement already satisfied: tensorboard<2.14,>=2.13 in c:\\users\\a\\anaconda3\\lib\\site-packages (from tensorflow-intel==2.13.0->tensorflow) (2.13.0)\n",
      "Requirement already satisfied: tensorflow-estimator<2.14,>=2.13.0 in c:\\users\\a\\anaconda3\\lib\\site-packages (from tensorflow-intel==2.13.0->tensorflow) (2.13.0)\n",
      "Requirement already satisfied: keras<2.14,>=2.13.1 in c:\\users\\a\\anaconda3\\lib\\site-packages (from tensorflow-intel==2.13.0->tensorflow) (2.13.1)\n",
      "Requirement already satisfied: tensorflow-io-gcs-filesystem>=0.23.1 in c:\\users\\a\\anaconda3\\lib\\site-packages (from tensorflow-intel==2.13.0->tensorflow) (0.31.0)\n",
      "Requirement already satisfied: wheel<1.0,>=0.23.0 in c:\\users\\a\\anaconda3\\lib\\site-packages (from astunparse>=1.6.0->tensorflow-intel==2.13.0->tensorflow) (0.38.4)\n",
      "Requirement already satisfied: google-auth<3,>=1.6.3 in c:\\users\\a\\anaconda3\\lib\\site-packages (from tensorboard<2.14,>=2.13->tensorflow-intel==2.13.0->tensorflow) (2.22.0)\n",
      "Requirement already satisfied: google-auth-oauthlib<1.1,>=0.5 in c:\\users\\a\\anaconda3\\lib\\site-packages (from tensorboard<2.14,>=2.13->tensorflow-intel==2.13.0->tensorflow) (1.0.0)\n",
      "Requirement already satisfied: markdown>=2.6.8 in c:\\users\\a\\anaconda3\\lib\\site-packages (from tensorboard<2.14,>=2.13->tensorflow-intel==2.13.0->tensorflow) (3.4.1)\n",
      "Requirement already satisfied: requests<3,>=2.21.0 in c:\\users\\a\\anaconda3\\lib\\site-packages (from tensorboard<2.14,>=2.13->tensorflow-intel==2.13.0->tensorflow) (2.29.0)\n",
      "Requirement already satisfied: tensorboard-data-server<0.8.0,>=0.7.0 in c:\\users\\a\\anaconda3\\lib\\site-packages (from tensorboard<2.14,>=2.13->tensorflow-intel==2.13.0->tensorflow) (0.7.1)\n",
      "Requirement already satisfied: werkzeug>=1.0.1 in c:\\users\\a\\anaconda3\\lib\\site-packages (from tensorboard<2.14,>=2.13->tensorflow-intel==2.13.0->tensorflow) (2.2.3)\n",
      "Requirement already satisfied: cachetools<6.0,>=2.0.0 in c:\\users\\a\\anaconda3\\lib\\site-packages (from google-auth<3,>=1.6.3->tensorboard<2.14,>=2.13->tensorflow-intel==2.13.0->tensorflow) (5.3.1)\n",
      "Requirement already satisfied: pyasn1-modules>=0.2.1 in c:\\users\\a\\anaconda3\\lib\\site-packages (from google-auth<3,>=1.6.3->tensorboard<2.14,>=2.13->tensorflow-intel==2.13.0->tensorflow) (0.2.8)\n",
      "Requirement already satisfied: rsa<5,>=3.1.4 in c:\\users\\a\\anaconda3\\lib\\site-packages (from google-auth<3,>=1.6.3->tensorboard<2.14,>=2.13->tensorflow-intel==2.13.0->tensorflow) (4.9)\n",
      "Requirement already satisfied: urllib3<2.0 in c:\\users\\a\\anaconda3\\lib\\site-packages (from google-auth<3,>=1.6.3->tensorboard<2.14,>=2.13->tensorflow-intel==2.13.0->tensorflow) (1.26.16)\n",
      "Requirement already satisfied: requests-oauthlib>=0.7.0 in c:\\users\\a\\anaconda3\\lib\\site-packages (from google-auth-oauthlib<1.1,>=0.5->tensorboard<2.14,>=2.13->tensorflow-intel==2.13.0->tensorflow) (1.3.1)\n",
      "Requirement already satisfied: charset-normalizer<4,>=2 in c:\\users\\a\\anaconda3\\lib\\site-packages (from requests<3,>=2.21.0->tensorboard<2.14,>=2.13->tensorflow-intel==2.13.0->tensorflow) (2.0.4)\n",
      "Requirement already satisfied: idna<4,>=2.5 in c:\\users\\a\\anaconda3\\lib\\site-packages (from requests<3,>=2.21.0->tensorboard<2.14,>=2.13->tensorflow-intel==2.13.0->tensorflow) (3.4)\n",
      "Requirement already satisfied: certifi>=2017.4.17 in c:\\users\\a\\anaconda3\\lib\\site-packages (from requests<3,>=2.21.0->tensorboard<2.14,>=2.13->tensorflow-intel==2.13.0->tensorflow) (2023.7.22)\n",
      "Requirement already satisfied: MarkupSafe>=2.1.1 in c:\\users\\a\\anaconda3\\lib\\site-packages (from werkzeug>=1.0.1->tensorboard<2.14,>=2.13->tensorflow-intel==2.13.0->tensorflow) (2.1.1)\n",
      "Requirement already satisfied: pyasn1<0.5.0,>=0.4.6 in c:\\users\\a\\anaconda3\\lib\\site-packages (from pyasn1-modules>=0.2.1->google-auth<3,>=1.6.3->tensorboard<2.14,>=2.13->tensorflow-intel==2.13.0->tensorflow) (0.4.8)\n",
      "Requirement already satisfied: oauthlib>=3.0.0 in c:\\users\\a\\anaconda3\\lib\\site-packages (from requests-oauthlib>=0.7.0->google-auth-oauthlib<1.1,>=0.5->tensorboard<2.14,>=2.13->tensorflow-intel==2.13.0->tensorflow) (3.2.2)\n"
     ]
    }
   ],
   "source": [
    "!pip install tensorflow"
   ]
  },
  {
   "cell_type": "code",
   "execution_count": 4,
   "id": "644073dc",
   "metadata": {},
   "outputs": [],
   "source": [
    "import tensorflow as tf"
   ]
  },
  {
   "cell_type": "code",
   "execution_count": 5,
   "id": "b2a16cbe",
   "metadata": {},
   "outputs": [
    {
     "name": "stdout",
     "output_type": "stream",
     "text": [
      "2.13.0\n"
     ]
    }
   ],
   "source": [
    "print(tf.__version__)"
   ]
  },
  {
   "cell_type": "code",
   "execution_count": 8,
   "id": "e711d7ec",
   "metadata": {},
   "outputs": [],
   "source": [
    "import numpy as np\n",
    "import tensorflow as tf\n",
    "from tensorflow.keras.models import Sequential\n",
    "from tensorflow.keras.layers import Dense\n",
    "from tensorflow.keras.activations import linear, relu, sigmoid"
   ]
  },
  {
   "cell_type": "code",
   "execution_count": 53,
   "id": "77a9cc27",
   "metadata": {},
   "outputs": [],
   "source": [
    "# Load MNIST dataset\n",
    "mnist = tf.keras.datasets.mnist\n",
    "(X_train, y_train), (X_test, y_test) = mnist.load_data()"
   ]
  },
  {
   "cell_type": "code",
   "execution_count": 54,
   "id": "692b2617",
   "metadata": {},
   "outputs": [],
   "source": [
    "# Normalize the pixel values to range [0, 1]\n",
    "X_train, X_test = X_train / 255.0, X_test / 255.0"
   ]
  },
  {
   "cell_type": "code",
   "execution_count": 55,
   "id": "85199da5",
   "metadata": {},
   "outputs": [
    {
     "name": "stdout",
     "output_type": "stream",
     "text": [
      "The shape of X is: (60000, 28, 28)\n",
      "The shape of y is: (60000,)\n"
     ]
    }
   ],
   "source": [
    "print ('The shape of X is: ' + str(X_train.shape))\n",
    "print ('The shape of y is: ' + str(y_train.shape))"
   ]
  },
  {
   "cell_type": "code",
   "execution_count": 56,
   "id": "a7ebc90c",
   "metadata": {},
   "outputs": [
    {
     "name": "stdout",
     "output_type": "stream",
     "text": [
      "The first element of y is:  5\n",
      "The last element of y is:  8\n"
     ]
    }
   ],
   "source": [
    "print ('The first element of y is: ', y_train[0])\n",
    "print ('The last element of y is: ', y_train[-1])"
   ]
  },
  {
   "cell_type": "code",
   "execution_count": 57,
   "id": "88c030a3",
   "metadata": {},
   "outputs": [
    {
     "data": {
      "image/png": "[encoded data removed]",
      "text/plain": [
       "<Figure size 1000x600 with 20 Axes>"
      ]
     },
     "metadata": {},
     "output_type": "display_data"
    }
   ],
   "source": [
    "# Visualize 20 random images from the train set\n",
    "import matplotlib.pyplot as plt\n",
    "num_images_to_visualize = 20\n",
    "random_indices = np.random.choice(len(X_train), num_images_to_visualize, replace=False)\n",
    "\n",
    "plt.figure(figsize=(10, 6))\n",
    "for i, idx in enumerate(random_indices):\n",
    "    plt.subplot(4, 5, i + 1)\n",
    "    plt.imshow(X_train[idx], cmap='gray')\n",
    "    plt.title(f'Label: {y_train[idx]}')\n",
    "    plt.axis('off')\n",
    "\n",
    "plt.tight_layout()\n",
    "plt.show()"
   ]
  },
  {
   "cell_type": "code",
   "execution_count": 58,
   "id": "03c1cc9b",
   "metadata": {},
   "outputs": [
    {
     "name": "stdout",
     "output_type": "stream",
     "text": [
      "Image size: (28, 28)\n"
     ]
    }
   ],
   "source": [
    "# check the image size\n",
    "image_size = X_train[0].shape\n",
    "print(\"Image size:\", image_size)"
   ]
  },
  {
   "cell_type": "code",
   "execution_count": 59,
   "id": "29532139",
   "metadata": {},
   "outputs": [],
   "source": [
    "# Flatten the input images\n",
    "X_train = X_train.reshape(-1, 784)\n",
    "X_test = X_test.reshape(-1, 784)"
   ]
  },
  {
   "cell_type": "code",
   "execution_count": 65,
   "id": "1209e3ea",
   "metadata": {},
   "outputs": [],
   "source": [
    "# using Keras Sequential model and Dense Layer with a ReLU activation to construct the three layer network\n",
    "tf.random.set_seed(1234)  # for consistent results\n",
    "model = Sequential([\n",
    "    tf.keras.Input(shape=(784,)),\n",
    "    Dense(25, activation='relu', name=\"L1\"),\n",
    "    Dense(15, activation='relu', name=\"L2\"),\n",
    "    Dense(10, activation='linear', name=\"L3\"),\n",
    "], name=\"my_model\")\n"
   ]
  },
  {
   "cell_type": "code",
   "execution_count": 66,
   "id": "30f3a5ec",
   "metadata": {},
   "outputs": [
    {
     "name": "stdout",
     "output_type": "stream",
     "text": [
      "Model: \"my_model\"\n",
      "_________________________________________________________________\n",
      " Layer (type)                Output Shape              Param #   \n",
      "=================================================================\n",
      " L1 (Dense)                  (None, 25)                19625     \n",
      "                                                                 \n",
      " L2 (Dense)                  (None, 15)                390       \n",
      "                                                                 \n",
      " L3 (Dense)                  (None, 10)                160       \n",
      "                                                                 \n",
      "=================================================================\n",
      "Total params: 20175 (78.81 KB)\n",
      "Trainable params: 20175 (78.81 KB)\n",
      "Non-trainable params: 0 (0.00 Byte)\n",
      "_________________________________________________________________\n"
     ]
    }
   ],
   "source": [
    "model.summary()"
   ]
  },
  {
   "cell_type": "code",
   "execution_count": 67,
   "id": "3a175d3b",
   "metadata": {},
   "outputs": [],
   "source": [
    "[layer1, layer2, layer3] = model.layers"
   ]
  },
  {
   "cell_type": "code",
   "execution_count": 68,
   "id": "139940bb",
   "metadata": {},
   "outputs": [
    {
     "name": "stdout",
     "output_type": "stream",
     "text": [
      "W1 shape = (784, 25), b1 shape = (25,)\n",
      "W2 shape = (25, 15), b2 shape = (15,)\n",
      "W3 shape = (15, 10), b3 shape = (10,)\n"
     ]
    }
   ],
   "source": [
    "# Examine Weights shapes\n",
    "W1,b1 = layer1.get_weights()\n",
    "W2,b2 = layer2.get_weights()\n",
    "W3,b3 = layer3.get_weights()\n",
    "print(f\"W1 shape = {W1.shape}, b1 shape = {b1.shape}\")\n",
    "print(f\"W2 shape = {W2.shape}, b2 shape = {b2.shape}\")\n",
    "print(f\"W3 shape = {W3.shape}, b3 shape = {b3.shape}\")"
   ]
  },
  {
   "cell_type": "code",
   "execution_count": 69,
   "id": "442c6f7f",
   "metadata": {},
   "outputs": [
    {
     "name": "stdout",
     "output_type": "stream",
     "text": [
      "Epoch 1/40\n",
      "1875/1875 [==============================] - 3s 1ms/step - loss: 0.3995\n",
      "Epoch 2/40\n",
      "1875/1875 [==============================] - 3s 2ms/step - loss: 0.1972\n",
      "Epoch 3/40\n",
      "1875/1875 [==============================] - 3s 1ms/step - loss: 0.1580\n",
      "Epoch 4/40\n",
      "1875/1875 [==============================] - 2s 1ms/step - loss: 0.1372\n",
      "Epoch 5/40\n",
      "1875/1875 [==============================] - 3s 2ms/step - loss: 0.1219\n",
      "Epoch 6/40\n",
      "1875/1875 [==============================] - 3s 1ms/step - loss: 0.1107\n",
      "Epoch 7/40\n",
      "1875/1875 [==============================] - 3s 1ms/step - loss: 0.1020\n",
      "Epoch 8/40\n",
      "1875/1875 [==============================] - 3s 1ms/step - loss: 0.0954\n",
      "Epoch 9/40\n",
      "1875/1875 [==============================] - 3s 1ms/step - loss: 0.0892\n",
      "Epoch 10/40\n",
      "1875/1875 [==============================] - 2s 1ms/step - loss: 0.0864\n",
      "Epoch 11/40\n",
      "1875/1875 [==============================] - 3s 1ms/step - loss: 0.0811\n",
      "Epoch 12/40\n",
      "1875/1875 [==============================] - 3s 1ms/step - loss: 0.0779\n",
      "Epoch 13/40\n",
      "1875/1875 [==============================] - 2s 1ms/step - loss: 0.0747\n",
      "Epoch 14/40\n",
      "1875/1875 [==============================] - 2s 1ms/step - loss: 0.0706\n",
      "Epoch 15/40\n",
      "1875/1875 [==============================] - 3s 1ms/step - loss: 0.0671\n",
      "Epoch 16/40\n",
      "1875/1875 [==============================] - 2s 1ms/step - loss: 0.0649\n",
      "Epoch 17/40\n",
      "1875/1875 [==============================] - 2s 1ms/step - loss: 0.0625\n",
      "Epoch 18/40\n",
      "1875/1875 [==============================] - 3s 1ms/step - loss: 0.0606\n",
      "Epoch 19/40\n",
      "1875/1875 [==============================] - 3s 2ms/step - loss: 0.0586\n",
      "Epoch 20/40\n",
      "1875/1875 [==============================] - 3s 1ms/step - loss: 0.0563\n",
      "Epoch 21/40\n",
      "1875/1875 [==============================] - 2s 1ms/step - loss: 0.0541\n",
      "Epoch 22/40\n",
      "1875/1875 [==============================] - 3s 1ms/step - loss: 0.0526\n",
      "Epoch 23/40\n",
      "1875/1875 [==============================] - 2s 1ms/step - loss: 0.0499\n",
      "Epoch 24/40\n",
      "1875/1875 [==============================] - 2s 1ms/step - loss: 0.0488\n",
      "Epoch 25/40\n",
      "1875/1875 [==============================] - 2s 1ms/step - loss: 0.0463\n",
      "Epoch 26/40\n",
      "1875/1875 [==============================] - 2s 1ms/step - loss: 0.0450\n",
      "Epoch 27/40\n",
      "1875/1875 [==============================] - 2s 1ms/step - loss: 0.0449\n",
      "Epoch 28/40\n",
      "1875/1875 [==============================] - 2s 1ms/step - loss: 0.0435\n",
      "Epoch 29/40\n",
      "1875/1875 [==============================] - 3s 1ms/step - loss: 0.0416\n",
      "Epoch 30/40\n",
      "1875/1875 [==============================] - 2s 1ms/step - loss: 0.0413\n",
      "Epoch 31/40\n",
      "1875/1875 [==============================] - 2s 1ms/step - loss: 0.0394\n",
      "Epoch 32/40\n",
      "1875/1875 [==============================] - 2s 1ms/step - loss: 0.0389\n",
      "Epoch 33/40\n",
      "1875/1875 [==============================] - 2s 1ms/step - loss: 0.0379\n",
      "Epoch 34/40\n",
      "1875/1875 [==============================] - 3s 1ms/step - loss: 0.0366\n",
      "Epoch 35/40\n",
      "1875/1875 [==============================] - 2s 1ms/step - loss: 0.0352\n",
      "Epoch 36/40\n",
      "1875/1875 [==============================] - 3s 1ms/step - loss: 0.0349\n",
      "Epoch 37/40\n",
      "1875/1875 [==============================] - 2s 1ms/step - loss: 0.0333\n",
      "Epoch 38/40\n",
      "1875/1875 [==============================] - 2s 1ms/step - loss: 0.0337\n",
      "Epoch 39/40\n",
      "1875/1875 [==============================] - 2s 1ms/step - loss: 0.0323\n",
      "Epoch 40/40\n",
      "1875/1875 [==============================] - 3s 1ms/step - loss: 0.0319\n"
     ]
    }
   ],
   "source": [
    "model.compile(\n",
    "    loss=tf.keras.losses.SparseCategoricalCrossentropy(from_logits=True),\n",
    "    optimizer=tf.keras.optimizers.Adam(learning_rate=0.001),\n",
    ")\n",
    "\n",
    "history = model.fit(\n",
    "    X_train,y_train,\n",
    "    epochs=40\n",
    ")"
   ]
  },
  {
   "cell_type": "code",
   "execution_count": 76,
   "id": "99661514",
   "metadata": {},
   "outputs": [
    {
     "name": "stdout",
     "output_type": "stream",
     "text": [
      "313/313 [==============================] - 0s 1ms/step - loss: 0.2086\n",
      "Test Loss: 0.20855122804641724\n"
     ]
    }
   ],
   "source": [
    "# Evaluate the model on the test dataset\n",
    "test_loss = model.evaluate(X_test, y_test)\n",
    "\n",
    "print(\"Test Loss:\", test_loss)"
   ]
  },
  {
   "cell_type": "code",
   "execution_count": 77,
   "id": "cf0a9242",
   "metadata": {},
   "outputs": [],
   "source": [
    "# Pick 10 random indices from the test dataset and see its results evaluate by the model we have trained\n",
    "random_indices = np.random.choice(len(X_test), 10, replace=False)"
   ]
  },
  {
   "cell_type": "code",
   "execution_count": 78,
   "id": "22035a14",
   "metadata": {},
   "outputs": [],
   "source": [
    "images = X_test[random_indices]\n",
    "actual_labels = y_test[random_indices]"
   ]
  },
  {
   "cell_type": "code",
   "execution_count": 79,
   "id": "7be2e58b",
   "metadata": {},
   "outputs": [
    {
     "name": "stdout",
     "output_type": "stream",
     "text": [
      "1/1 [==============================] - 0s 131ms/step\n"
     ]
    }
   ],
   "source": [
    "# Use the model to predict the probabilities for each image that we have selected from the test data\n",
    "predicted_probs = model.predict(images)"
   ]
  },
  {
   "cell_type": "code",
   "execution_count": 80,
   "id": "812b04a6",
   "metadata": {},
   "outputs": [],
   "source": [
    "# Get the predicted labels for each image\n",
    "predicted_labels = np.argmax(predicted_probs, axis=1)"
   ]
  },
  {
   "cell_type": "code",
   "execution_count": 81,
   "id": "7b06a5f0",
   "metadata": {},
   "outputs": [
    {
     "data": {
      "image/png": "[encoded data removed]",
      "text/plain": [
       "<Figure size 1500x800 with 10 Axes>"
      ]
     },
     "metadata": {},
     "output_type": "display_data"
    }
   ],
   "source": [
    "# Show the images and their corresponding actual and predicted labels\n",
    "plt.figure(figsize=(15, 8))\n",
    "for i in range(10):\n",
    "    plt.subplot(2, 5, i + 1)\n",
    "    plt.imshow(images[i].reshape(28, 28), cmap='gray')\n",
    "    plt.title(f'Actual: {actual_labels[i]}, Predicted: {predicted_labels[i]}')\n",
    "    plt.axis('off')\n",
    "\n",
    "plt.tight_layout()\n",
    "plt.show()"
   ]
  }
 ],
 "metadata": {
  "kernelspec": {
   "display_name": "Python 3 (ipykernel)",
   "language": "python",
   "name": "python3"
  },
  "language_info": {
   "codemirror_mode": {
    "name": "ipython",
    "version": 3
   },
   "file_extension": ".py",
   "mimetype": "text/x-python",
   "name": "python",
   "nbconvert_exporter": "python",
   "pygments_lexer": "ipython3",
   "version": "3.11.3"
  }
 },
 "nbformat": 4,
 "nbformat_minor": 5
}
